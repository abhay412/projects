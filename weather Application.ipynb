{
 "cells": [
  {
   "cell_type": "markdown",
   "metadata": {},
   "source": [
    "# weather application"
   ]
  },
  {
   "cell_type": "code",
   "execution_count": 2,
   "metadata": {},
   "outputs": [],
   "source": [
    "import json \n",
    "import requests as rq\n",
    "import tkinter as tk\n",
    "from tkinter import *\n",
    "import requests as rq\n",
    "import bs4\n",
    "from bs4 import BeautifulSoup"
   ]
  },
  {
   "cell_type": "code",
   "execution_count": 3,
   "metadata": {},
   "outputs": [],
   "source": [
    "root=Tk()\n",
    "\n",
    "root.title(\"Weather Widget By I.A.Partap\")\n",
    "root.resizable(0,0)\n",
    "root.geometry(\"450x200\")\n",
    "\n",
    "info = StringVar()\n",
    "\n",
    "weather = Message(root, textvariable = info, width = 200) \n",
    "info.set(\"What's your weather?\")\n",
    "weather.grid(row=1, column=1)\n",
    "\n",
    "\n",
    "\n",
    "def main():\n",
    "    city=(e.get())\n",
    "    url=rq.get(\"https://api.openweathermap.org/data/2.5/weather?q=\"+city+\"&appid=a6d9d61f15cfeb975462d0f980e1fa8d\")\n",
    "    url.text\n",
    "    j=json.loads(url.text)\n",
    "#     data1=j[\"coord\"]\n",
    "    description = j['weather'][0]['description'] \n",
    "    data0=j[\"main\"][\"temp\"]\n",
    "    temp=data0-273.15 \n",
    "    temp1=str(temp)+\"C\"\n",
    "#     print(\"current_temp:\",data0)\n",
    "    data3=j[\"main\"][\"temp_min\"]\n",
    "    cel=data3 -273.00\n",
    "    cel1=str(cel)+\"C\"\n",
    "    \n",
    "#     print(\"temp_min:\",data3)\n",
    "    data4=j[\"main\"][\"temp_max\"]\n",
    "    cel2=data4 -273.00\n",
    "    cel2=str(cel2)+\"C\"\n",
    "#     print(\"temp_max:\",data4)\n",
    "    data5=str(j[\"main\"][\"pressure\"])+\"Bar\"\n",
    "#     print(\"pressure:\",data5)\n",
    "    \n",
    "    hummidity=str(j[\"main\"][\"humidity\"])\n",
    "#     print(\"hummidity:\",hummidity)\n",
    "    sun=str(j[\"sys\"][\"sunrise\"])+\"F\"\n",
    "    sun_1=str(j[\"sys\"][\"sunset\"])+\"F\"\n",
    "#     print(\"sunrise:\",sun)\n",
    "#     print(\"sunset:\",sun_1)\n",
    "    info.set(\"state with country :\"+ city+\"\\n\"+ \"description :\" + description  +\"\\n\" + \"Temperature: \"+temp1 + \"\\n\" + \"Min_temp :\"+cel1+ \"\\n\"+ \"Max_temp :\"+cel2+\"\\n\"+\"Pressure :\"+data5+\"\\n\"+\"hummidity :\"+hummidity+\"\\n\"+\"surise :\"+sun+\"\\n\"+\"sun_set:\"+sun_1 )\n",
    "#     lbl=Label(top,text=\"Result\",fg=\"Black\",bg=\"light green\" ,relief='solid', width=25,font=('arial 20 bold'))\n",
    "#     lbl.grid()\n",
    "    \n",
    "\n",
    "label=Label(root,text='Enter your state and country name')\n",
    "label.grid(row=3, column=1, sticky='E')\n",
    "\n",
    "e=Entry(root)\n",
    "e.grid(row=3, column=2)\n",
    "\n",
    "sub = Button(root,text='Get Weather', command = main)\n",
    "sub.grid(row=4, column=2)\n",
    "# author=Label(root,text=\"Designed & Developed by - Abhay @ 2019\",font=(\"Times 10\"))\n",
    "# author.grid(row=10,column=4)\n",
    "\n",
    "\n",
    "\n",
    "\n",
    "# root.configure(background = 'skyblue')\n",
    "root.mainloop()\n",
    "\n"
   ]
  },
  {
   "cell_type": "code",
   "execution_count": null,
   "metadata": {},
   "outputs": [],
   "source": []
  }
 ],
 "metadata": {
  "kernelspec": {
   "display_name": "Python 3",
   "language": "python",
   "name": "python3"
  },
  "language_info": {
   "codemirror_mode": {
    "name": "ipython",
    "version": 3
   },
   "file_extension": ".py",
   "mimetype": "text/x-python",
   "name": "python",
   "nbconvert_exporter": "python",
   "pygments_lexer": "ipython3",
   "version": "3.7.4"
  }
 },
 "nbformat": 4,
 "nbformat_minor": 2
}
